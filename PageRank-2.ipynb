{
 "cells": [
  {
   "cell_type": "code",
   "execution_count": 1,
   "id": "2171c983",
   "metadata": {},
   "outputs": [
    {
     "name": "stdout",
     "output_type": "stream",
     "text": [
      "<class 'scipy.sparse._coo.coo_matrix'>\n",
      "1864433\n"
     ]
    }
   ],
   "source": [
    "import numpy as np\n",
    "from numpy import dot, array\n",
    "import scipy\n",
    "import os\n",
    "from scipy.io import mmread\n",
    "\n",
    "#Get data from file:\n",
    "P = mmread(os.path.expanduser(\"/Users/berkaybilik/Downloads/web-wikipedia2009/web-wikipedia2009.mtx\"))\n",
    "print(type(P))\n",
    "dimension = P.shape[0]\n",
    "print(dimension)"
   ]
  },
  {
   "cell_type": "code",
   "execution_count": 4,
   "id": "1b6f1fe2",
   "metadata": {},
   "outputs": [],
   "source": [
    "#Setting up the inital value:\n",
    "x0 = np.random.rand(dimension)\n",
    "x= x0/(np.sum(x0))\n",
    "\n",
    "#The P matrix is not a Stochastic Matrix so to make it one, sum all the columns and divide each entry by the\n",
    "#corresponding sum:\n",
    "sumOfCols = P.sum(axis=0)\n",
    "P = P.multiply(1/sumOfCols)"
   ]
  },
  {
   "cell_type": "code",
   "execution_count": 5,
   "id": "bfc4605c",
   "metadata": {},
   "outputs": [
    {
     "name": "stdout",
     "output_type": "stream",
     "text": [
      "No\n"
     ]
    }
   ],
   "source": [
    "#Now we need to deal with dangling nodes. These appear when an entry (i,i) is 1:\n",
    "diagonal = P.diagonal()\n",
    "if 1 in diagonal:\n",
    "    print(\"Yes\")\n",
    "else:\n",
    "    print(\"No\")\n",
    "#It turns out that there are NO dangling nodes in this dataset"
   ]
  },
  {
   "cell_type": "code",
   "execution_count": 24,
   "id": "513dae93",
   "metadata": {},
   "outputs": [
    {
     "name": "stdout",
     "output_type": "stream",
     "text": [
      "[8.38442045e-06 6.09117419e-06 2.09010037e-06 ... 1.24991288e-07\n",
      " 2.09877687e-07 2.09937677e-07]\n",
      "1670462\n"
     ]
    }
   ],
   "source": [
    "#Set up the K matrix:\n",
    "K = np.ones(dimension)/dimension\n",
    "\n",
    "#Pick p value:\n",
    "p = 0.85\n",
    "\n",
    "#Iterate:\n",
    "for i in range(100):\n",
    "    x = p*P.dot(x) + (1-p)*K.dot(x)\n",
    "\n",
    "print(x)\n",
    "maxIndex = np.argmax(x, axis=0)\n",
    "print(maxIndex)"
   ]
  },
  {
   "cell_type": "code",
   "execution_count": 6,
   "id": "1477c946",
   "metadata": {},
   "outputs": [
    {
     "name": "stdout",
     "output_type": "stream",
     "text": [
      "0.9999999999999986\n"
     ]
    }
   ],
   "source": [
    "#Sanity Check \n",
    "print(x.sum())"
   ]
  },
  {
   "cell_type": "code",
   "execution_count": null,
   "id": "a42a45da",
   "metadata": {},
   "outputs": [],
   "source": []
  }
 ],
 "metadata": {
  "kernelspec": {
   "display_name": "Python 3",
   "language": "python",
   "name": "python3"
  },
  "language_info": {
   "codemirror_mode": {
    "name": "ipython",
    "version": 3
   },
   "file_extension": ".py",
   "mimetype": "text/x-python",
   "name": "python",
   "nbconvert_exporter": "python",
   "pygments_lexer": "ipython3",
   "version": "3.8.8"
  }
 },
 "nbformat": 4,
 "nbformat_minor": 5
}
